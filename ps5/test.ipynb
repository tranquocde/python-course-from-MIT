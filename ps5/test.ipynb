{
 "cells": [
  {
   "cell_type": "code",
   "execution_count": 1,
   "metadata": {},
   "outputs": [
    {
     "name": "stdout",
     "output_type": "stream",
     "text": [
      "!\"#$%&'()*+,-./:;<=>?@[\\]^_`{|}~\n"
     ]
    }
   ],
   "source": [
    "import string \n",
    "print(string.punctuation)"
   ]
  },
  {
   "cell_type": "code",
   "execution_count": 8,
   "metadata": {},
   "outputs": [
    {
     "name": "stdout",
     "output_type": "stream",
     "text": [
      "this_is_my_macbook\n"
     ]
    }
   ],
   "source": [
    "string = 'this is my macbook'\n",
    "string = '_'.join(string.split())\n",
    "\n",
    "print(string)"
   ]
  },
  {
   "cell_type": "code",
   "execution_count": 10,
   "metadata": {},
   "outputs": [
    {
     "name": "stdout",
     "output_type": "stream",
     "text": [
      "False\n"
     ]
    }
   ],
   "source": [
    "list_1 = ['a','b','c']\n",
    "list_2 = ['b','c','a']\n",
    "print(list_1 == list_2)"
   ]
  },
  {
   "cell_type": "code",
   "execution_count": 12,
   "metadata": {},
   "outputs": [
    {
     "name": "stdout",
     "output_type": "stream",
     "text": [
      "peter\n",
      "john\n",
      "13\n",
      "15\n"
     ]
    }
   ],
   "source": [
    "class A:\n",
    "    def __init__(self,name):\n",
    "        self.name = name\n",
    "    def get_name(self):\n",
    "        return self.name\n",
    "class B(A):\n",
    "    def __init__(self,name,age):\n",
    "        super().__init__(name)\n",
    "        self.age = age\n",
    "    def get_age(self):\n",
    "        return self.age\n",
    "class C(B):\n",
    "    def __init__(self,name,age,grade):\n",
    "        super().__init__(name,age)\n",
    "        self.grade = grade\n",
    "    def get_grade(self):\n",
    "        return self.grade\n",
    "a = A(name = 'peter')\n",
    "b = B(name = 'john',age = 13)\n",
    "c = C(name = 'lili',age = 15,grade = 9)\n",
    "print(a.get_name())\n",
    "print(b.get_name())\n",
    "print(b.get_age())\n",
    "print(c.get_age())\n"
   ]
  },
  {
   "cell_type": "code",
   "execution_count": 39,
   "metadata": {},
   "outputs": [
    {
     "name": "stdout",
     "output_type": "stream",
     "text": [
      "True\n"
     ]
    }
   ],
   "source": [
    "import string\n",
    "def is_phrase_in(self,text): #text is a string\n",
    "        '''It returns ​True​ if the whole phrase is present\n",
    "         in text, ​False​ otherwise,'''\n",
    "        phrase_lower = self.lower()\n",
    "        text_lower = text.lower()\n",
    "        for punctuation in string.punctuation :\n",
    "            phrase_lower = phrase_lower.replace(punctuation,' ')\n",
    "            text_lower = text_lower.replace(punctuation, ' ')\n",
    "        phrase_list = phrase_lower.split()\n",
    "        text_list = text_lower.split()\n",
    "        num = len(text_list)-len(phrase_list)\n",
    "        if num <0 : return False\n",
    "        else:\n",
    "            #checking each subphrase in text with matched length with self.phrase\n",
    "            for index in range(num +1):\n",
    "                if text_list[index:index+len(phrase_list)] == phrase_list:\n",
    "                    return True\n",
    "            return False\n",
    "print(is_phrase_in(self = 'purple!!! cow',text = 'Purple!!! Cow!!!'))"
   ]
  },
  {
   "cell_type": "code",
   "execution_count": 40,
   "metadata": {},
   "outputs": [
    {
     "name": "stdout",
     "output_type": "stream",
     "text": [
      "00:00:00\n"
     ]
    }
   ],
   "source": [
    "import datetime\n",
    "print(datetime.time())"
   ]
  },
  {
   "cell_type": "code",
   "execution_count": 5,
   "metadata": {},
   "outputs": [
    {
     "name": "stdout",
     "output_type": "stream",
     "text": [
      "False\n"
     ]
    }
   ],
   "source": [
    "from datetime import datetime\n",
    "ancient_time = datetime(1987, 10, 15)\n",
    "time = datetime(1988,10,12)\n",
    "print(time < ancient_time)"
   ]
  },
  {
   "cell_type": "code",
   "execution_count": 5,
   "metadata": {},
   "outputs": [
    {
     "name": "stdout",
     "output_type": "stream",
     "text": [
      "True\n"
     ]
    }
   ],
   "source": [
    "# 6.0001/6.00 Problem Set 5 - RSS Feed Filter\n",
    "# Name:\n",
    "# Collaborators:\n",
    "# Time:\n",
    "\n",
    "from dataclasses import make_dataclass\n",
    "import feedparser\n",
    "import string\n",
    "import time\n",
    "import threading\n",
    "from project_util import translate_html\n",
    "from mtTkinter import *\n",
    "from datetime import datetime\n",
    "import pytz\n",
    "\n",
    "\n",
    "#-----------------------------------------------------------------------\n",
    "\n",
    "#======================\n",
    "# Code for retrieving and parsing\n",
    "# Google and Yahoo News feeds\n",
    "# Do not change this code\n",
    "#======================\n",
    "\n",
    "def process(url):\n",
    "    \"\"\"\n",
    "    Fetches news items from the rss url and parses them.\n",
    "    Returns a list of NewsStory-s.\n",
    "    \"\"\"\n",
    "    feed = feedparser.parse(url)\n",
    "    entries = feed.entries\n",
    "    ret = []\n",
    "    for entry in entries:\n",
    "        guid = entry.guid\n",
    "        title = translate_html(entry.title)\n",
    "        link = entry.link\n",
    "        description = translate_html(entry.description)\n",
    "        pubdate = translate_html(entry.published)\n",
    "\n",
    "        try:\n",
    "            pubdate = datetime.strptime(pubdate, \"%a, %d %b %Y %H:%M:%S %Z\")\n",
    "            pubdate.replace(tzinfo=pytz.timezone(\"GMT\"))\n",
    "          #  pubdate = pubdate.astimezone(pytz.timezone('EST'))\n",
    "          #  pubdate.replace(tzinfo=None)\n",
    "        except ValueError:\n",
    "            pubdate = datetime.strptime(pubdate, \"%a, %d %b %Y %H:%M:%S %z\")\n",
    "\n",
    "        newsStory = NewsStory(guid, title, description, link, pubdate)\n",
    "        ret.append(newsStory)\n",
    "    return ret\n",
    "\n",
    "#======================\n",
    "# Data structure design\n",
    "#======================\n",
    "\n",
    "# Problem 1\n",
    "\n",
    "# TODO: NewsStory\n",
    "class NewsStory(object):\n",
    "    def __init__(self,guide,title,description,link,pubdate):\n",
    "        self.guide = guide\n",
    "        self.title = title\n",
    "        self.description = description\n",
    "        self.link = link\n",
    "        self.pubdate = pubdate\n",
    "    def get_guid(self): return self.guide\n",
    "    def get_title(self): return self.title\n",
    "    def get_description(self):return self.description\n",
    "    def get_link(self): return self.link\n",
    "    def get_pubdate(self): return self.pubdate\n",
    "\n",
    "#======================\n",
    "# Triggers\n",
    "#======================\n",
    "\n",
    "class Trigger(object):\n",
    "    def evaluate(self, story): #story is a NewsStory object\n",
    "        \"\"\"\n",
    "        Returns True if an alert should be generated\n",
    "        for the given news item, or False otherwise.\n",
    "        \"\"\"\n",
    "        # DO NOT CHANGE THIS!\n",
    "        raise NotImplementedError\n",
    "\n",
    "# PHRASE TRIGGERS\n",
    "import string\n",
    "import abc\n",
    "# Problem 2\n",
    "# TODO: PhraseTrigger\n",
    "class PhraseTrigger(Trigger):\n",
    "    def __init__(self,phrase):\n",
    "        super().__init__()\n",
    "        self.phrase = phrase\n",
    "    def is_phrase_in(self,text): #text is a string\n",
    "        '''It returns ​True​ if the whole phrase is present\n",
    "         in text, ​False​ otherwise,'''\n",
    "        phrase_lower = self.phrase.lower()\n",
    "        text_lower = text.lower()\n",
    "        for punctuation in string.punctuation:\n",
    "            phrase_lower = phrase_lower.replace(punctuation,' ')\n",
    "            text_lower = text_lower.replace(punctuation, ' ')\n",
    "\n",
    "        \n",
    "        phrase_list = phrase_lower.split()\n",
    "        text_list = text_lower.split()\n",
    "        num = len(text_list)-len(phrase_list)\n",
    "        if num <0 : return False\n",
    "        else:\n",
    "            #checking each subphrase in text with matched length with self.phrase\n",
    "            for index in range(num +1):\n",
    "                if text_list[index:index+len(phrase_list)] == phrase_list:\n",
    "                    return True\n",
    "            return False\n",
    "    def evaluate(self,story):\n",
    "        pass\n",
    "\n",
    "# Problem 3\n",
    "# TODO: TitleTrigger\n",
    "class TitleTrigger(PhraseTrigger):\n",
    "    def __init__(self,phrase) :\n",
    "        super().__init__(phrase)\n",
    "    def evaluate(self, story): #story is a NewsStory object\n",
    "        return self.is_phrase_in(story.get_title())\n",
    "\n",
    "\n",
    "    \n",
    "# Problem 4\n",
    "# TODO: DescriptionTrigger\n",
    "class DescriptionTrigger(PhraseTrigger):\n",
    "    def __init__(self, phrase):\n",
    "        super().__init__(phrase)\n",
    "    def evaluate(self, story ): \n",
    "        return self.is_phrase_in(story.get_description()) \n",
    "        #story is a NewsStory object\n",
    "# TIME TRIGGERS\n",
    "\n",
    "# Problem 5\n",
    "# TODO: TimeTrigger\n",
    "# Constructor:\n",
    "#        Input: Time has to be in EST and in the format of \"%d %b %Y %H:%M:%S\".\n",
    "#        Convert time from string to a datetime before saving it as an attribute.\n",
    "import datetime\n",
    "from datetime import datetime\n",
    "class TimeTrigger(Trigger):\n",
    "    def __init__(self,time):\n",
    "        super().__init__()\n",
    "        self.time = datetime.strptime(time, \"%d %b %Y %H:%M:%S\").replace(tzinfo=pytz.timezone(\"EST\"))\n",
    "    def evaluate(self, story):\n",
    "        pass\n",
    "\n",
    "# Problem 6\n",
    "# TODO: BeforeTrigger and AfterTrigger\n",
    "class BeforeTrigger(TimeTrigger):\n",
    "    def __init__(self, time): #time is a string, we need to convert it to datetime object\n",
    "        super().__init__(time)\n",
    "    def evaluate(self, time): #time is a datetime object\n",
    "        return self.time > time.get_pubdate()\n",
    "class AfterTrigger(TimeTrigger):\n",
    "    def __init__(self, time):\n",
    "        super().__init__(time)\n",
    "    def evaluate(self, time): #time is a NewsStory object\n",
    "        return self.time < time.get_pubdate()\n",
    "ancient_time = datetime(1987, 10, 15)\n",
    "ancient_time = ancient_time.replace(tzinfo=pytz.timezone(\"EST\"))\n",
    "ancient = NewsStory('', '', '', '', ancient_time)\n",
    "s1 = BeforeTrigger('12 Oct 2016 23:59:59')\n",
    "print(s1.evaluate(ancient))\n",
    "\n",
    "\n"
   ]
  },
  {
   "cell_type": "code",
   "execution_count": 2,
   "metadata": {},
   "outputs": [
    {
     "name": "stdout",
     "output_type": "stream",
     "text": [
      "True\n"
     ]
    }
   ],
   "source": [
    "import pytz\n",
    "\n",
    "print(datetime.now().replace(tzinfo=pytz.UTC) > \\\n",
    "    datetime.strptime('Fri, 31 Jan 2020 09:59:34 +0000 (UTC)',\n",
    "                      \"%a, %d %b %Y %H:%M:%S %z (%Z)\"))\n"
   ]
  },
  {
   "cell_type": "code",
   "execution_count": null,
   "metadata": {},
   "outputs": [],
   "source": []
  }
 ],
 "metadata": {
  "interpreter": {
   "hash": "aee8b7b246df8f9039afb4144a1f6fd8d2ca17a180786b69acc140d282b71a49"
  },
  "kernelspec": {
   "display_name": "Python 3.9.10 64-bit",
   "language": "python",
   "name": "python3"
  },
  "language_info": {
   "codemirror_mode": {
    "name": "ipython",
    "version": 3
   },
   "file_extension": ".py",
   "mimetype": "text/x-python",
   "name": "python",
   "nbconvert_exporter": "python",
   "pygments_lexer": "ipython3",
   "version": "3.9.10"
  },
  "orig_nbformat": 4
 },
 "nbformat": 4,
 "nbformat_minor": 2
}
