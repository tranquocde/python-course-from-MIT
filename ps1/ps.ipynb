{
 "cells": [
  {
   "cell_type": "code",
   "execution_count": 1,
   "metadata": {},
   "outputs": [
    {
     "name": "stdout",
     "output_type": "stream",
     "text": [
      "183\n"
     ]
    }
   ],
   "source": [
    "annual_salary = int(input(\"Enter your annual salary: \"))\n",
    "portion_saved = float(input(\"Enter the percent of your salary to save: \"))\n",
    "total_cost = int(input(\"Enter the cost of your dream home: \"))\n",
    "portion_down_payment = 0.25\n",
    "down_payment = portion_down_payment * total_cost\n",
    "current_savings = 0 #current savings starts at 0\n",
    "monthly_salary = annual_salary/12\n",
    "invest_rate = 0.04 #at the end of each month, you receive\n",
    "                   # an additional ​current_savings*r/12\n",
    "\n",
    "#initialize month\n",
    "month = 0\n",
    "while current_savings < down_payment:\n",
    "    current_savings = current_savings + current_savings * 0.04/12 \\\n",
    "        + monthly_salary * portion_saved\n",
    "    month += 1\n",
    "print(month)\n",
    "    "
   ]
  },
  {
   "cell_type": "code",
   "execution_count": 2,
   "metadata": {},
   "outputs": [
    {
     "name": "stdout",
     "output_type": "stream",
     "text": [
      "Number of months :183\n"
     ]
    }
   ],
   "source": [
    "annual_salary = int(input(\"Enter your starting annual salary: \"))\n",
    "portion_saved = float(input(\"Enter the percent of your salary to save: \"))\n",
    "total_cost = int(input(\"Enter the cost of your dream home: \"))\n",
    "semi_annual_raise = float(input(\"Enter your semi-annual raise: \"))\n",
    "portion_down_payment = 0.25\n",
    "down_payment = portion_down_payment * total_cost\n",
    "current_savings = 0 #current savings starts at 0\n",
    "\n",
    "invest_rate = 0.04 #at the end of each month, you receive\n",
    "                   # an additional ​current_savings*r/12\n",
    "monthly_salary = annual_salary/12\n",
    "#initialize month\n",
    "month = 0\n",
    "while current_savings < down_payment:\n",
    "    current_savings = current_savings + current_savings * 0.04/12 \\\n",
    "        + monthly_salary * portion_saved\n",
    "    month += 1\n",
    "    if month % 6 == 0: #raise the annual salary after each 6 months\n",
    "        annual_salary += annual_salary * semi_annual_raise\n",
    "print(f\"Number of months :{month}\")"
   ]
  },
  {
   "cell_type": "code",
   "execution_count": 4,
   "metadata": {},
   "outputs": [],
   "source": [
    "c = int(input())\n",
    "def func():\n",
    "    print(c)"
   ]
  },
  {
   "cell_type": "code",
   "execution_count": 5,
   "metadata": {},
   "outputs": [
    {
     "name": "stdout",
     "output_type": "stream",
     "text": [
      "1\n"
     ]
    }
   ],
   "source": [
    "c = 1.234\n",
    "print(int(c))"
   ]
  },
  {
   "cell_type": "code",
   "execution_count": null,
   "metadata": {},
   "outputs": [],
   "source": []
  }
 ],
 "metadata": {
  "interpreter": {
   "hash": "aee8b7b246df8f9039afb4144a1f6fd8d2ca17a180786b69acc140d282b71a49"
  },
  "kernelspec": {
   "display_name": "Python 3.9.10 64-bit",
   "language": "python",
   "name": "python3"
  },
  "language_info": {
   "codemirror_mode": {
    "name": "ipython",
    "version": 3
   },
   "file_extension": ".py",
   "mimetype": "text/x-python",
   "name": "python",
   "nbconvert_exporter": "python",
   "pygments_lexer": "ipython3",
   "version": "3.9.10"
  },
  "orig_nbformat": 4
 },
 "nbformat": 4,
 "nbformat_minor": 2
}
