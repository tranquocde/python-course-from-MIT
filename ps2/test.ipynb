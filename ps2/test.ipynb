{
 "cells": [
  {
   "cell_type": "code",
   "execution_count": 12,
   "metadata": {},
   "outputs": [
    {
     "name": "stdout",
     "output_type": "stream",
     "text": [
      "0 0 0 0 0 0 0 0 0 0\n",
      "0000010000\n"
     ]
    }
   ],
   "source": [
    "c = [0]*10\n",
    "print(*c)\n",
    "c[5] = 1\n",
    "print(*c,sep='')"
   ]
  },
  {
   "cell_type": "code",
   "execution_count": 11,
   "metadata": {},
   "outputs": [
    {
     "name": "stdout",
     "output_type": "stream",
     "text": [
      "w\n",
      "e\n",
      "d\n",
      "s\n",
      "d\n"
     ]
    }
   ],
   "source": [
    "word = 'wedsd'\n",
    "for i in word:\n",
    "    print(f\"{i}\")"
   ]
  },
  {
   "cell_type": "code",
   "execution_count": 14,
   "metadata": {},
   "outputs": [
    {
     "name": "stdout",
     "output_type": "stream",
     "text": [
      "True\n"
     ]
    }
   ],
   "source": [
    "x = 'd'\n",
    "print(x.isalpha())"
   ]
  },
  {
   "cell_type": "code",
   "execution_count": 15,
   "metadata": {},
   "outputs": [
    {
     "name": "stdout",
     "output_type": "stream",
     "text": [
      "True\n"
     ]
    }
   ],
   "source": [
    "c = 'sdasfda'\n",
    "print(c.isalpha())"
   ]
  },
  {
   "cell_type": "code",
   "execution_count": 20,
   "metadata": {},
   "outputs": [
    {
     "name": "stdout",
     "output_type": "stream",
     "text": [
      "_e_e_\n"
     ]
    }
   ],
   "source": [
    "def get_guessed_word(secret_word, letters_guessed):\n",
    "    '''\n",
    "    secret_word: string, the word the user is guessing\n",
    "    letters_guessed: list (of letters), which letters have been guessed so far\n",
    "    returns: string, comprised of letters, underscores (_), and spaces that represents\n",
    "      which letters in secret_word have been guessed so far.\n",
    "    '''\n",
    "    # FILL IN YOUR CODE HERE AND DELETE \"pass\"\n",
    "    n = len(secret_word)\n",
    "    ans = '_'*n\n",
    "    for letter in letters_guessed:\n",
    "      for i in range(n):\n",
    "        if secret_word[i] == letter:\n",
    "            ans = ans[0:i]+letter+ans[i+1:n]\n",
    "    \n",
    "    return ans\n",
    "\n",
    "print(get_guessed_word('peter',['c','d','e']))"
   ]
  },
  {
   "cell_type": "code",
   "execution_count": 28,
   "metadata": {},
   "outputs": [
    {
     "name": "stdout",
     "output_type": "stream",
     "text": [
      "abefghijklmnopqrstuvwxyz\n"
     ]
    }
   ],
   "source": [
    "import string\n",
    "\n",
    "def get_available_letters(letters_guessed):\n",
    "    '''\n",
    "    letters_guessed: list (of letters), which letters have been guessed so far\n",
    "    returns: string (of letters), comprised of letters that represents which letters have not\n",
    "      yet been guessed.\n",
    "    '''\n",
    "    # FILL IN YOUR CODE HERE AND DELETE \"pass\"\n",
    "    str_available = string.ascii_lowercase\n",
    "    ans =''\n",
    "    for letter in str_available:\n",
    "        if letter not in letters_guessed:\n",
    "            ans += letter\n",
    "    \n",
    "    return ans\n",
    "\n",
    "print(get_available_letters(letters_guessed=['c','d']))"
   ]
  },
  {
   "cell_type": "code",
   "execution_count": null,
   "metadata": {},
   "outputs": [],
   "source": [
    "# n = len(secret_word)\n",
    "#     print(f\"The secret word has {n} letters\")\n",
    "#     list_letter = list(secret_word)\n",
    "#     interactive_list_letter = ['_']*n\n",
    "#     num_of_guesses = n\n",
    "#     while num_of_guesses > 0:\n",
    "#       print(f\"Number of guesses left : {num_of_guesses}\")\n",
    "#       guess_letter = input(\"Enter your guess letter: \")\n",
    "#       #checking the input from the player\n",
    "#       while guess_letter.isalpha() == False or len(guess_letter) >1 or \\\n",
    "#         guess_letter in interactive_list_letter: \n",
    "#         guess_letter = input(\"Your guess is not a letter or it's \\\n",
    "# already in the guessed letters list, please guess again: \")\n",
    "#       #insert the guess letter into the interactive word (if can do)\n",
    "#       for i in range(n):\n",
    "#         if secret_word[i] == guess_letter:\n",
    "#           interactive_list_letter[i] = guess_letter\n",
    "#       print(*interactive_list_letter,sep = '')\n",
    "#       #quit the game if the word is found\n",
    "#       if is_word_guessed(secret_word,interactive_list_letter) == True:\n",
    "#         print(\"Congratulations, you win the game !\")\n",
    "#         break\n",
    "\n",
    "#       num_of_guesses -= 1\n",
    "#     if num_of_guesses == 0:\n",
    "#       print(\"There is no more left guesses !\")\n",
    "#       print(f\"The secret word is '{secret_word}'\")\n"
   ]
  },
  {
   "cell_type": "code",
   "execution_count": 2,
   "metadata": {},
   "outputs": [
    {
     "name": "stdout",
     "output_type": "stream",
     "text": [
      "abcdefghijklmnopqrstuvwxyz\n"
     ]
    }
   ],
   "source": [
    "import string\n",
    "\n",
    "def get_available_letters(letters_guessed): #checked\n",
    "    '''\n",
    "    letters_guessed: list (of letters), which letters have been guessed so far\n",
    "    returns: string (of letters), comprised of letters that represents which letters have not\n",
    "      yet been guessed.\n",
    "    '''\n",
    "    # FILL IN YOUR CODE HERE AND DELETE \"pass\"\n",
    "    str_available = string.ascii_lowercase\n",
    "    ans =''\n",
    "    for letter in str_available:\n",
    "        if letter not in letters_guessed:\n",
    "            ans += letter\n",
    "    return ans\n",
    "print(get_available_letters([]))\n"
   ]
  },
  {
   "cell_type": "code",
   "execution_count": 3,
   "metadata": {},
   "outputs": [
    {
     "name": "stdout",
     "output_type": "stream",
     "text": [
      "wo____\n"
     ]
    }
   ],
   "source": [
    "def get_guessed_word(secret_word, letters_guessed): #checked\n",
    "    '''\n",
    "    secret_word: string, the word the user is guessing\n",
    "    letters_guessed: list (of letters), which letters have been guessed so far\n",
    "    returns: string, comprised of letters, underscores (_), and spaces that represents\n",
    "      which letters in secret_word have been guessed so far.\n",
    "    '''\n",
    "    # FILL IN YOUR CODE HERE AND DELETE \"pass\"\n",
    "    n = len(secret_word)\n",
    "    ans = '_'*n\n",
    "    for letter in letters_guessed:\n",
    "      for i in range(n):\n",
    "        if secret_word[i] == letter:\n",
    "            ans = ans[0:i]+letter+ans[i+1:n]\n",
    "    \n",
    "    return ans\n",
    "print(get_guessed_word(\"wonder\",['w','o']))"
   ]
  },
  {
   "cell_type": "code",
   "execution_count": 9,
   "metadata": {},
   "outputs": [
    {
     "name": "stdout",
     "output_type": "stream",
     "text": [
      "False\n"
     ]
    }
   ],
   "source": [
    "c = '*'\n",
    "print(c.isalpha())"
   ]
  },
  {
   "cell_type": "code",
   "execution_count": 14,
   "metadata": {},
   "outputs": [
    {
     "name": "stdout",
     "output_type": "stream",
     "text": [
      "This is my home \n"
     ]
    }
   ],
   "source": []
  },
  {
   "cell_type": "code",
   "execution_count": 25,
   "metadata": {},
   "outputs": [
    {
     "name": "stdout",
     "output_type": "stream",
     "text": [
      "False\n"
     ]
    }
   ],
   "source": [
    "def match_with_gaps(my_word, other_word): #checked\n",
    "    '''\n",
    "    my_word: string with _ characters, current guess of secret word\n",
    "    other_word: string, regular English word\n",
    "    returns: boolean, True if all the actual letters of my_word match the \n",
    "        corresponding letters of other_word, or the letter is the special symbol\n",
    "        _ , and my_word and other_word are of the same length;\n",
    "        False otherwise: \n",
    "    '''\n",
    "    # FILL IN YOUR CODE HERE AND DELETE \"pass\"\n",
    "    if len(my_word) != len(other_word):\n",
    "      return False\n",
    "    else:\n",
    "        n = len(my_word)\n",
    "        #initialize the loop\n",
    "        for i in range(n):\n",
    "            if my_word[i].isalpha() == True: #checking a letter is matched or not\n",
    "                if my_word[i] != other_word[i] : return False\n",
    "        return True\n",
    "print(match_with_gaps(my_word='t__t_',other_word='tact'))"
   ]
  },
  {
   "cell_type": "code",
   "execution_count": null,
   "metadata": {},
   "outputs": [],
   "source": []
  }
 ],
 "metadata": {
  "interpreter": {
   "hash": "aee8b7b246df8f9039afb4144a1f6fd8d2ca17a180786b69acc140d282b71a49"
  },
  "kernelspec": {
   "display_name": "Python 3.9.10 64-bit",
   "language": "python",
   "name": "python3"
  },
  "language_info": {
   "codemirror_mode": {
    "name": "ipython",
    "version": 3
   },
   "file_extension": ".py",
   "mimetype": "text/x-python",
   "name": "python",
   "nbconvert_exporter": "python",
   "pygments_lexer": "ipython3",
   "version": "3.9.10"
  },
  "orig_nbformat": 4
 },
 "nbformat": 4,
 "nbformat_minor": 2
}
