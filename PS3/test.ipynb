{
 "cells": [
  {
   "cell_type": "code",
   "execution_count": 1,
   "metadata": {},
   "outputs": [
    {
     "name": "stdout",
     "output_type": "stream",
     "text": [
      "False\n"
     ]
    }
   ],
   "source": [
    "letter = ' '\n",
    "print(letter.isalpha())"
   ]
  },
  {
   "cell_type": "code",
   "execution_count": 2,
   "metadata": {},
   "outputs": [
    {
     "name": "stdout",
     "output_type": "stream",
     "text": [
      "3\n"
     ]
    }
   ],
   "source": [
    "print(max(1,3))"
   ]
  },
  {
   "cell_type": "code",
   "execution_count": 3,
   "metadata": {},
   "outputs": [
    {
     "name": "stdout",
     "output_type": "stream",
     "text": [
      "4\n"
     ]
    }
   ],
   "source": [
    "import math\n",
    "print(math.ceil(3.6))"
   ]
  },
  {
   "cell_type": "code",
   "execution_count": 8,
   "metadata": {},
   "outputs": [
    {
     "name": "stdout",
     "output_type": "stream",
     "text": [
      "0\n"
     ]
    }
   ],
   "source": [
    "hand = {'a':2,'b':3}\n",
    "print(hand.get(\"c\",0))"
   ]
  },
  {
   "cell_type": "code",
   "execution_count": 10,
   "metadata": {},
   "outputs": [
    {
     "name": "stdout",
     "output_type": "stream",
     "text": [
      "de*sda\n"
     ]
    }
   ],
   "source": [
    "word = 'De*sda'\n",
    "word = word.lower()\n",
    "print(word)"
   ]
  },
  {
   "cell_type": "code",
   "execution_count": 11,
   "metadata": {},
   "outputs": [
    {
     "name": "stdout",
     "output_type": "stream",
     "text": [
      "a*af*af\n"
     ]
    }
   ],
   "source": [
    "string = 'asafsaf'\n",
    "print(string.replace('s','*'))"
   ]
  },
  {
   "cell_type": "code",
   "execution_count": 12,
   "metadata": {},
   "outputs": [
    {
     "name": "stdout",
     "output_type": "stream",
     "text": [
      "True\n"
     ]
    }
   ],
   "source": [
    "def func(n):\n",
    "    if 1<2:\n",
    "        return True\n",
    "def fun(n):\n",
    "    return func(n)\n",
    "print(fun(1))"
   ]
  },
  {
   "cell_type": "code",
   "execution_count": 14,
   "metadata": {},
   "outputs": [
    {
     "name": "stdout",
     "output_type": "stream",
     "text": [
      "_sd_d\n",
      "asdad\n"
     ]
    }
   ],
   "source": [
    "str = 'asdad'\n",
    "str_clone = str[:]\n",
    "str = str.replace('a','_')\n",
    "print(str)\n",
    "print(str_clone)"
   ]
  },
  {
   "cell_type": "code",
   "execution_count": 16,
   "metadata": {},
   "outputs": [
    {
     "name": "stdout",
     "output_type": "stream",
     "text": [
      "True\n"
     ]
    }
   ],
   "source": [
    "def check(word,hand):\n",
    "    '''checking whether a word can be made from the current hand's state\n",
    "    return Boolean '''\n",
    "    for letter in word:\n",
    "        if letter not in hand or hand[letter] == 0:\n",
    "            return False\n",
    "        else: hand[letter] -= 1\n",
    "    return True  \n",
    "print(check('w*n',{'*':1,'w':2,'n':1}))"
   ]
  },
  {
   "cell_type": "code",
   "execution_count": 17,
   "metadata": {},
   "outputs": [],
   "source": [
    "for i in range(0):\n",
    "    print(i)"
   ]
  },
  {
   "cell_type": "code",
   "execution_count": 22,
   "metadata": {},
   "outputs": [
    {
     "name": "stdout",
     "output_type": "stream",
     "text": [
      "5\n"
     ]
    }
   ],
   "source": [
    "hand = {'a':2,'b':3}\n",
    "print(sum(i for i in hand.values()))"
   ]
  },
  {
   "cell_type": "code",
   "execution_count": 38,
   "metadata": {},
   "outputs": [
    {
     "name": "stdout",
     "output_type": "stream",
     "text": [
      "5\n"
     ]
    }
   ],
   "source": [
    "import random\n",
    "list = [1,2,3,4,5]\n",
    "list.remove(2)\n",
    "print(random.choice(list))"
   ]
  },
  {
   "cell_type": "code",
   "execution_count": 44,
   "metadata": {},
   "outputs": [
    {
     "name": "stdout",
     "output_type": "stream",
     "text": [
      "{'b': 1}\n"
     ]
    }
   ],
   "source": [
    "dic = {'a':2,'b':1}\n",
    "dic.pop('a')\n",
    "print(dic)"
   ]
  },
  {
   "cell_type": "code",
   "execution_count": 46,
   "metadata": {},
   "outputs": [
    {
     "name": "stdout",
     "output_type": "stream",
     "text": [
      "vcsc\n"
     ]
    }
   ],
   "source": [
    "string = 'avcsc'\n",
    "string = string.replace('a','')\n",
    "print(string)"
   ]
  },
  {
   "cell_type": "code",
   "execution_count": 80,
   "metadata": {},
   "outputs": [
    {
     "name": "stdout",
     "output_type": "stream",
     "text": [
      "{'o': 2, 'i': 2, 'u': 2, '*': 1, 'y': 1, 'g': 2, 'd': 2, 'v': 2, 'p': 1, 'h': 1, 'l': 1, 'q': 1, 'k': 1}\n"
     ]
    }
   ],
   "source": [
    "VOWELS = 'aeiou'\n",
    "CONSONANTS = 'bcdfghjklmnpqrstvwxyz'\n",
    "HAND_SIZE = 7\n",
    "\n",
    "SCRABBLE_LETTER_VALUES = {'*':0,\n",
    "    'a': 1, 'b': 3, 'c': 3, 'd': 2, 'e': 1, 'f': 4, 'g': 2, 'h': 4, 'i': 1, 'j': 8, 'k': 5, 'l': 1, 'm': 3, 'n': 1, 'o': 1, 'p': 3, 'q': 10, 'r': 1, 's': 1, 't': 1, 'u': 1, 'v': 4, 'w': 4, 'x': 8, 'y': 4, 'z': 10\n",
    "} \n",
    "def deal_hand(n): #checked\n",
    "    \"\"\"\n",
    "    Returns a random hand containing n lowercase letters.\n",
    "    ceil(n/3) letters in the hand should be VOWELS (note,\n",
    "    ceil(n/3) means the smallest integer not less than n/3).\n",
    "\n",
    "    Hands are represented as dictionaries. The keys are\n",
    "    letters and the values are the number of times the\n",
    "    particular letter is repeated in that hand.\n",
    "\n",
    "    n: int >= 0\n",
    "    returns: dictionary (string -> int)\n",
    "    \"\"\"\n",
    "    \n",
    "    hand={}\n",
    "    num_vowels = int(math.ceil(n / 3)) #ceil is the upper floor func\n",
    "    list_of_vowel = []\n",
    "    for i in range(num_vowels-1):     #get random vowels\n",
    "        x = random.choice(VOWELS)\n",
    "\n",
    "        hand[x] = hand.get(x, 0) + 1\n",
    "    #adding '*' to the hand (replace 1 vowel)\n",
    "    hand['*'] =1\n",
    "    \n",
    "    for i in range(num_vowels, n):    # get random consonants\n",
    "        x = random.choice(CONSONANTS)\n",
    "        hand[x] = hand.get(x, 0) + 1\n",
    "    \n",
    "    return hand\n",
    "print(deal_hand(19))"
   ]
  },
  {
   "cell_type": "code",
   "execution_count": 86,
   "metadata": {},
   "outputs": [
    {
     "name": "stdout",
     "output_type": "stream",
     "text": [
      "{'o': 1, '*': 1, 'v': 1, 'd': 1, 't': 1, 'f': 1, 'm': 1}\n"
     ]
    }
   ],
   "source": [
    "VOWELS = 'aeiou'\n",
    "CONSONANTS = 'bcdfghjklmnpqrstvwxyz'\n",
    "HAND_SIZE = 7\n",
    "\n",
    "def substitute_hand(hand, letter): #checked\n",
    "    \"\"\" \n",
    "    Allow the user to replace all copies of one letter in the hand (chosen by user)\n",
    "    with a new letter chosen from the VOWELS and CONSONANTS at random. The new letter\n",
    "    should be different from user's choice, and should not be any of the letters\n",
    "    already in the hand.\n",
    "\n",
    "    If user provide a letter not in the hand, the hand should be the same.\n",
    "\n",
    "    Has no side effects: DOES NOT MUTATE HAND. #checked\n",
    "\n",
    "    For example:\n",
    "        substitute_hand({'h':1, 'e':1, 'l':2, 'o':1}, 'l')\n",
    "    might return:\n",
    "        {'h':1, 'e':1, 'o':1, 'x':2} -> if the new letter is 'x'\n",
    "    The new letter should not be 'h', 'e', 'l', or 'o' since those letters were\n",
    "    already in the hand.\n",
    "    \n",
    "    hand: dictionary (string -> int)\n",
    "    letter: string\n",
    "    returns: dictionary (string -> int)\n",
    "    \"\"\"\n",
    "    #hand: dictionary\n",
    "    #letter: a letter chosen by user\n",
    "    list_of_choices = VOWELS+CONSONANTS #all letters we have \n",
    "    ans = hand.copy()\n",
    "    for let in hand:\n",
    "        list_of_choices.replace(let,'') #remove the letters from current hand \n",
    "    new_letter = random.choice(list_of_choices)\n",
    "    ans[new_letter] = ans[letter]\n",
    "    ans.pop(letter)\n",
    "    return ans\n",
    "print(substitute_hand(hand = {'a':1,'o':1,'*':1,'v':1,'d':1,'t':1,'f':1},letter = 'a'))"
   ]
  },
  {
   "cell_type": "code",
   "execution_count": 84,
   "metadata": {},
   "outputs": [
    {
     "name": "stdout",
     "output_type": "stream",
     "text": [
      "{'b': 2}\n"
     ]
    }
   ],
   "source": [
    "ans = {'a':1,'b':2}\n",
    "ans.pop('a')\n",
    "print(ans)"
   ]
  },
  {
   "cell_type": "code",
   "execution_count": 90,
   "metadata": {},
   "outputs": [
    {
     "name": "stdout",
     "output_type": "stream",
     "text": [
      "['__add__', '__class__', '__contains__', '__delattr__', '__dir__', '__doc__', '__eq__', '__format__', '__ge__', '__getattribute__', '__getitem__', '__getnewargs__', '__gt__', '__hash__', '__init__', '__init_subclass__', '__iter__', '__le__', '__len__', '__lt__', '__mod__', '__mul__', '__ne__', '__new__', '__reduce__', '__reduce_ex__', '__repr__', '__rmod__', '__rmul__', '__setattr__', '__sizeof__', '__str__', '__subclasshook__', 'capitalize', 'casefold', 'center', 'count', 'encode', 'endswith', 'expandtabs', 'find', 'format', 'format_map', 'index', 'isalnum', 'isalpha', 'isascii', 'isdecimal', 'isdigit', 'isidentifier', 'islower', 'isnumeric', 'isprintable', 'isspace', 'istitle', 'isupper', 'join', 'ljust', 'lower', 'lstrip', 'maketrans', 'partition', 'removeprefix', 'removesuffix', 'replace', 'rfind', 'rindex', 'rjust', 'rpartition', 'rsplit', 'rstrip', 'split', 'splitlines', 'startswith', 'strip', 'swapcase', 'title', 'translate', 'upper', 'zfill']\n"
     ]
    }
   ],
   "source": []
  },
  {
   "cell_type": "code",
   "execution_count": null,
   "metadata": {},
   "outputs": [],
   "source": []
  }
 ],
 "metadata": {
  "interpreter": {
   "hash": "aee8b7b246df8f9039afb4144a1f6fd8d2ca17a180786b69acc140d282b71a49"
  },
  "kernelspec": {
   "display_name": "Python 3.9.10 64-bit",
   "language": "python",
   "name": "python3"
  },
  "language_info": {
   "codemirror_mode": {
    "name": "ipython",
    "version": 3
   },
   "file_extension": ".py",
   "mimetype": "text/x-python",
   "name": "python",
   "nbconvert_exporter": "python",
   "pygments_lexer": "ipython3",
   "version": "3.9.10"
  },
  "orig_nbformat": 4
 },
 "nbformat": 4,
 "nbformat_minor": 2
}
