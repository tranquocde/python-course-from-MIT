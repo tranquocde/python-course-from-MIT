{
 "cells": [
  {
   "cell_type": "code",
   "execution_count": 8,
   "metadata": {},
   "outputs": [
    {
     "name": "stdout",
     "output_type": "stream",
     "text": [
      "abc\n"
     ]
    }
   ],
   "source": [
    "str = 'abcde'\n",
    "print(str[:3])\n"
   ]
  },
  {
   "cell_type": "code",
   "execution_count": 9,
   "metadata": {},
   "outputs": [
    {
     "name": "stdout",
     "output_type": "stream",
     "text": [
      "[1, 2, 4, 4]\n",
      "[1, 2, 3, 4]\n"
     ]
    }
   ],
   "source": [
    "list = [1,2,3,4]\n",
    "list2 = list[::]\n",
    "list[2] = 4\n",
    "print(list)\n",
    "print(list2)"
   ]
  },
  {
   "cell_type": "code",
   "execution_count": 12,
   "metadata": {},
   "outputs": [
    {
     "name": "stdout",
     "output_type": "stream",
     "text": [
      "abcdefghijklmnopqrstuvwxyzABCDEFGHIJKLMNOPQRSTUVWXYZ\n"
     ]
    }
   ],
   "source": [
    "import string\n",
    "letters = string.ascii_letters\n",
    "print(letters)"
   ]
  },
  {
   "cell_type": "code",
   "execution_count": 14,
   "metadata": {},
   "outputs": [
    {
     "name": "stdout",
     "output_type": "stream",
     "text": [
      "b\n"
     ]
    }
   ],
   "source": [
    "str = 'abc'\n",
    "pos = 4%3\n",
    "print(str[pos])"
   ]
  },
  {
   "cell_type": "code",
   "execution_count": 17,
   "metadata": {},
   "outputs": [
    {
     "name": "stdout",
     "output_type": "stream",
     "text": [
      "{'a': 'd', 'b': 'e', 'c': 'f', 'd': 'g', 'e': 'h', 'f': 'i', 'g': 'j', 'h': 'k', 'i': 'l', 'j': 'm', 'k': 'n', 'l': 'o', 'm': 'p', 'n': 'q', 'o': 'r', 'p': 's', 'q': 't', 'r': 'u', 's': 'v', 't': 'w', 'u': 'x', 'v': 'y', 'w': 'z', 'x': 'a', 'y': 'b', 'z': 'c', 'A': 'D', 'B': 'E', 'C': 'F', 'D': 'G', 'E': 'H', 'F': 'I', 'G': 'J', 'H': 'K', 'I': 'L', 'J': 'M', 'K': 'N', 'L': 'O', 'M': 'P', 'N': 'Q', 'O': 'R', 'P': 'S', 'Q': 'T', 'R': 'U', 'S': 'V', 'T': 'W', 'U': 'X', 'V': 'Y', 'W': 'Z', 'X': 'A', 'Y': 'B', 'Z': 'C'}\n"
     ]
    }
   ],
   "source": [
    "\n",
    "def build_shift_dict( shift):\n",
    "    '''\n",
    "    Creates a dictionary that can be used to apply a cipher to a letter.\n",
    "    The dictionary maps every uppercase and lowercase letter to a\n",
    "    character shifted down the alphabet by the input shift. The dictionary\n",
    "    should have 52 keys of all the uppercase letters and all the lowercase\n",
    "    letters only.        \n",
    "    \n",
    "    shift (integer): the amount by which to shift every letter of the \n",
    "    alphabet. 0 <= shift < 26\n",
    "\n",
    "    Returns: a dictionary mapping a letter (string) to \n",
    "                another letter (string). \n",
    "    '''\n",
    "    ans = dict()\n",
    "    lower_letters = string.ascii_lowercase\n",
    "    n = len(lower_letters)\n",
    "    #we shift the lower case first\n",
    "    for i in range(n):\n",
    "        shifted_pos = (i+shift)%n\n",
    "        ans[lower_letters[i]] = lower_letters[shifted_pos]\n",
    "    for letter in lower_letters:\n",
    "        upper_letter = letter.upper()\n",
    "        ans[upper_letter] = ans[letter].upper()\n",
    "    return ans\n",
    "print(build_shift_dict(shift = 3))"
   ]
  },
  {
   "cell_type": "code",
   "execution_count": 18,
   "metadata": {},
   "outputs": [
    {
     "name": "stdout",
     "output_type": "stream",
     "text": [
      "this is my macbook\n"
     ]
    }
   ],
   "source": [
    "class Message():\n",
    "    def __init__(self,text):\n",
    "        self.message_text = text\n",
    "    def get_message_text (self):\n",
    "        return self.message_text\n",
    "message = Message(text = 'this is my macbook')\n",
    "print(message.get_message_text())"
   ]
  },
  {
   "cell_type": "code",
   "execution_count": 20,
   "metadata": {},
   "outputs": [
    {
     "name": "stdout",
     "output_type": "stream",
     "text": [
      "['This', 'is', 'my', 'macbook.', 'I', 'bought', 'it', 'last', 'year']\n"
     ]
    }
   ],
   "source": [
    "str = \"This is my macbook. I bought it last year\"\n",
    "print(str.split())"
   ]
  },
  {
   "cell_type": "code",
   "execution_count": null,
   "metadata": {},
   "outputs": [],
   "source": []
  }
 ],
 "metadata": {
  "interpreter": {
   "hash": "aee8b7b246df8f9039afb4144a1f6fd8d2ca17a180786b69acc140d282b71a49"
  },
  "kernelspec": {
   "display_name": "Python 3.9.10 64-bit",
   "language": "python",
   "name": "python3"
  },
  "language_info": {
   "codemirror_mode": {
    "name": "ipython",
    "version": 3
   },
   "file_extension": ".py",
   "mimetype": "text/x-python",
   "name": "python",
   "nbconvert_exporter": "python",
   "pygments_lexer": "ipython3",
   "version": "3.9.10"
  },
  "orig_nbformat": 4
 },
 "nbformat": 4,
 "nbformat_minor": 2
}
